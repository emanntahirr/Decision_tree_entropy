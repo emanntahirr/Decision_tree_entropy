{
 "cells": [
  {
   "cell_type": "markdown",
   "id": "c54ea325-39c2-4d30-a539-7f3222e9942d",
   "metadata": {},
   "source": [
    "# Decision tree learning - Entropy & Information Gain\n",
    "This focuses on how decision trees actually decide which feature to split on.\n",
    "I wanted to understand **entropy** and **information gain** properly - not just as formulas, but as the logic behind how a tree \"thinks\" when building itself."
   ]
  },
  {
   "cell_type": "code",
   "execution_count": 1,
   "id": "75964087-6615-4ff3-a59f-69020e217354",
   "metadata": {},
   "outputs": [],
   "source": [
    "import numpy as np\n",
    "import pandas as pd\n",
    "import math"
   ]
  },
  {
   "cell_type": "markdown",
   "id": "e2376cd0-a41f-4691-a0ce-e7f345f60a20",
   "metadata": {},
   "source": [
    "### Dataset: \"Play Tennis\"\n",
    "\n",
    "This is the **PlayTennis** dataset that most decision tree examples use.\n",
    "Each row represents a day and the features describing the weather conditions.\n",
    "The target column 'PlayTennis' tells us if we played tennis('Yes') or not ('No').\n",
    "\n",
    "The goal of a decision tree is to find **which questions (feature)** best splits the data into consistent groups so that each group mostly has one class."
   ]
  },
  {
   "cell_type": "code",
   "execution_count": 2,
   "id": "a5c1f370-66fb-4f61-8b86-bcbc07bbbf53",
   "metadata": {},
   "outputs": [
    {
     "data": {
      "text/html": [
       "<div>\n",
       "<style scoped>\n",
       "    .dataframe tbody tr th:only-of-type {\n",
       "        vertical-align: middle;\n",
       "    }\n",
       "\n",
       "    .dataframe tbody tr th {\n",
       "        vertical-align: top;\n",
       "    }\n",
       "\n",
       "    .dataframe thead th {\n",
       "        text-align: right;\n",
       "    }\n",
       "</style>\n",
       "<table border=\"1\" class=\"dataframe\">\n",
       "  <thead>\n",
       "    <tr style=\"text-align: right;\">\n",
       "      <th></th>\n",
       "      <th>Outlook</th>\n",
       "      <th>Temperature</th>\n",
       "      <th>Humidity</th>\n",
       "      <th>Wind</th>\n",
       "      <th>PlayTennis</th>\n",
       "    </tr>\n",
       "  </thead>\n",
       "  <tbody>\n",
       "    <tr>\n",
       "      <th>0</th>\n",
       "      <td>Sunny</td>\n",
       "      <td>Hot</td>\n",
       "      <td>High</td>\n",
       "      <td>Weak</td>\n",
       "      <td>No</td>\n",
       "    </tr>\n",
       "    <tr>\n",
       "      <th>1</th>\n",
       "      <td>Sunny</td>\n",
       "      <td>Hot</td>\n",
       "      <td>High</td>\n",
       "      <td>Strong</td>\n",
       "      <td>No</td>\n",
       "    </tr>\n",
       "    <tr>\n",
       "      <th>2</th>\n",
       "      <td>Overcast</td>\n",
       "      <td>Hot</td>\n",
       "      <td>High</td>\n",
       "      <td>Weak</td>\n",
       "      <td>Yes</td>\n",
       "    </tr>\n",
       "    <tr>\n",
       "      <th>3</th>\n",
       "      <td>Rain</td>\n",
       "      <td>Mild</td>\n",
       "      <td>High</td>\n",
       "      <td>Weak</td>\n",
       "      <td>Yes</td>\n",
       "    </tr>\n",
       "    <tr>\n",
       "      <th>4</th>\n",
       "      <td>Rain</td>\n",
       "      <td>Cool</td>\n",
       "      <td>Normal</td>\n",
       "      <td>Weak</td>\n",
       "      <td>Yes</td>\n",
       "    </tr>\n",
       "    <tr>\n",
       "      <th>5</th>\n",
       "      <td>Rain</td>\n",
       "      <td>Cool</td>\n",
       "      <td>Normal</td>\n",
       "      <td>Strong</td>\n",
       "      <td>No</td>\n",
       "    </tr>\n",
       "    <tr>\n",
       "      <th>6</th>\n",
       "      <td>Overcast</td>\n",
       "      <td>Cool</td>\n",
       "      <td>Normal</td>\n",
       "      <td>Strong</td>\n",
       "      <td>Yes</td>\n",
       "    </tr>\n",
       "    <tr>\n",
       "      <th>7</th>\n",
       "      <td>Sunny</td>\n",
       "      <td>Mild</td>\n",
       "      <td>High</td>\n",
       "      <td>Weak</td>\n",
       "      <td>No</td>\n",
       "    </tr>\n",
       "    <tr>\n",
       "      <th>8</th>\n",
       "      <td>Sunny</td>\n",
       "      <td>Cool</td>\n",
       "      <td>Normal</td>\n",
       "      <td>Weak</td>\n",
       "      <td>Yes</td>\n",
       "    </tr>\n",
       "    <tr>\n",
       "      <th>9</th>\n",
       "      <td>Rain</td>\n",
       "      <td>Mild</td>\n",
       "      <td>Normal</td>\n",
       "      <td>Weak</td>\n",
       "      <td>Yes</td>\n",
       "    </tr>\n",
       "    <tr>\n",
       "      <th>10</th>\n",
       "      <td>Sunny</td>\n",
       "      <td>Mild</td>\n",
       "      <td>Normal</td>\n",
       "      <td>Strong</td>\n",
       "      <td>Yes</td>\n",
       "    </tr>\n",
       "    <tr>\n",
       "      <th>11</th>\n",
       "      <td>Overcast</td>\n",
       "      <td>Mild</td>\n",
       "      <td>High</td>\n",
       "      <td>Strong</td>\n",
       "      <td>Yes</td>\n",
       "    </tr>\n",
       "    <tr>\n",
       "      <th>12</th>\n",
       "      <td>Overcast</td>\n",
       "      <td>Hot</td>\n",
       "      <td>Normal</td>\n",
       "      <td>Weak</td>\n",
       "      <td>Yes</td>\n",
       "    </tr>\n",
       "    <tr>\n",
       "      <th>13</th>\n",
       "      <td>Rain</td>\n",
       "      <td>Mild</td>\n",
       "      <td>High</td>\n",
       "      <td>Strong</td>\n",
       "      <td>No</td>\n",
       "    </tr>\n",
       "  </tbody>\n",
       "</table>\n",
       "</div>"
      ],
      "text/plain": [
       "     Outlook Temperature Humidity    Wind PlayTennis\n",
       "0      Sunny         Hot     High    Weak         No\n",
       "1      Sunny         Hot     High  Strong         No\n",
       "2   Overcast         Hot     High    Weak        Yes\n",
       "3       Rain        Mild     High    Weak        Yes\n",
       "4       Rain        Cool   Normal    Weak        Yes\n",
       "5       Rain        Cool   Normal  Strong         No\n",
       "6   Overcast        Cool   Normal  Strong        Yes\n",
       "7      Sunny        Mild     High    Weak         No\n",
       "8      Sunny        Cool   Normal    Weak        Yes\n",
       "9       Rain        Mild   Normal    Weak        Yes\n",
       "10     Sunny        Mild   Normal  Strong        Yes\n",
       "11  Overcast        Mild     High  Strong        Yes\n",
       "12  Overcast         Hot   Normal    Weak        Yes\n",
       "13      Rain        Mild     High  Strong         No"
      ]
     },
     "execution_count": 2,
     "metadata": {},
     "output_type": "execute_result"
    }
   ],
   "source": [
    "data = {\n",
    "    'Outlook': ['Sunny', 'Sunny', 'Overcast', 'Rain', 'Rain', 'Rain', 'Overcast', 'Sunny', 'Sunny', 'Rain', 'Sunny', 'Overcast', 'Overcast', 'Rain'],\n",
    "    'Temperature': ['Hot', 'Hot', 'Hot', 'Mild', 'Cool', 'Cool', 'Cool', 'Mild', 'Cool', 'Mild', 'Mild', 'Mild', 'Hot', 'Mild'],\n",
    "    'Humidity': ['High', 'High', 'High', 'High', 'Normal', 'Normal', 'Normal', 'High', 'Normal', 'Normal', 'Normal', 'High', 'Normal', 'High'],\n",
    "    'Wind': ['Weak', 'Strong', 'Weak', 'Weak', 'Weak', 'Strong', 'Strong', 'Weak', 'Weak', 'Weak', 'Strong', 'Strong', 'Weak', 'Strong'],\n",
    "    'PlayTennis': ['No', 'No', 'Yes', 'Yes', 'Yes', 'No', 'Yes', 'No', 'Yes', 'Yes', 'Yes', 'Yes', 'Yes', 'No']\n",
    "}\n",
    "df = pd.DataFrame(data)\n",
    "df"
   ]
  },
  {
   "cell_type": "markdown",
   "id": "b8827515-e136-455c-844d-785a696606f4",
   "metadata": {},
   "source": [
    "### Step 1: Calculating Entropy (Uncertainty)\n",
    "\n",
    "**Entropy** measures how mixed up the data is.  \n",
    "If a dataset has both “Yes” and “No” outcomes evenly → high entropy (uncertain).  \n",
    "If it’s mostly one label → low entropy (more certain).\n",
    "\n",
    "This function follows the formula:\n",
    "\n",
    "\\[\n",
    "H(Y) = -\\sum P(y_i) \\log_2 P(y_i)\n",
    "\\]\n",
    "\n",
    "We:\n",
    "1. Count the proportion of each class  \n",
    "2. Multiply by log₂ of that probability  \n",
    "3. Take the negative sum"
   ]
  },
  {
   "cell_type": "code",
   "execution_count": 3,
   "id": "348ef25c-4219-4c97-991e-027ece8d4027",
   "metadata": {},
   "outputs": [],
   "source": [
    "def entropy(column):\n",
    "    values, counts = np.unique(column, return_counts=True)\n",
    "    probs = counts / counts.sum()\n",
    "    return -np.sum(probs * np.log2(probs))"
   ]
  },
  {
   "cell_type": "code",
   "execution_count": 4,
   "id": "1a78eafe-5861-4140-bcbf-d17c2d1a5cb7",
   "metadata": {},
   "outputs": [
    {
     "data": {
      "text/plain": [
       "np.float64(0.9402859586706311)"
      ]
     },
     "execution_count": 4,
     "metadata": {},
     "output_type": "execute_result"
    }
   ],
   "source": [
    "entropy(df['PlayTennis'])"
   ]
  },
  {
   "cell_type": "markdown",
   "id": "f3692c3c-84d6-450c-a6d3-79e9a2063f8e",
   "metadata": {},
   "source": [
    "This gives the entropy of our target column *before any split*.  \n",
    "It tells us how uncertain the dataset is right now.\n",
    "\n",
    "If you get around **0.94**, it means our dataset is fairly mixed — there’s still a lot to “learn” from the features.\n"
   ]
  },
  {
   "cell_type": "markdown",
   "id": "1773e61d-4542-4870-801d-90c4a107f219",
   "metadata": {},
   "source": [
    "### Step 2: Conditional Entropy (After Splitting)\n",
    "\n",
    "Now we check what happens **after we split** the dataset by one feature, like “Outlook”.\n",
    "\n",
    "Each value (Sunny, Rain, Overcast) creates a smaller subset of data.\n",
    "We calculate the entropy for each subset and take the **weighted average** because some subsets are bigger than others.\n",
    "\n",
    "This represents the *remaining uncertainty* **after** using that feature."
   ]
  },
  {
   "cell_type": "code",
   "execution_count": 5,
   "id": "947cfbcd-19f0-4d54-863b-194ae89930e1",
   "metadata": {},
   "outputs": [],
   "source": [
    "def conditional_entropy(feature_col, target_col):\n",
    "    values, counts = np.unique(feature_col, return_counts=True)\n",
    "    total = np.sum(counts)\n",
    "    weighted_entropy = 0\n",
    "    \n",
    "    for i in range(len(values)):\n",
    "        subset = target_col[feature_col == values[i]]\n",
    "        weighted_entropy += (counts[i] / total) * entropy(subset)\n",
    "    \n",
    "    return weighted_entropy"
   ]
  },
  {
   "cell_type": "markdown",
   "id": "fac9264b-8725-4513-8b8f-1e2ae50874f8",
   "metadata": {},
   "source": [
    "### Step 3: Information Gain\n",
    "\n",
    "Information Gain (IG) tells us **how much uncertainty was removed** after we split by a feature.\n",
    "\n",
    "\\[\n",
    "IG(Y, X) = H(Y) - H(Y|X)\n",
    "\\]\n",
    "\n",
    "If a feature reduces entropy a lot → high information gain → it’s a *good question* for the decision tree to ask."
   ]
  },
  {
   "cell_type": "code",
   "execution_count": 6,
   "id": "c5438b28-62f9-4f60-9bd8-3df20980628b",
   "metadata": {},
   "outputs": [],
   "source": [
    "def information_gain(feature_col, target_col):\n",
    "    total_entropy = entropy(target_col)\n",
    "    cond_entropy = conditional_entropy(feature_col, target_col)\n",
    "    return total_entropy - cond_entropy"
   ]
  },
  {
   "cell_type": "markdown",
   "id": "737c60d7-5a58-410d-8301-6799df2ab748",
   "metadata": {},
   "source": [
    "### Step 4: Compare All Features\n",
    "\n",
    "Here we loop through every feature and calculate its Information Gain.\n",
    "\n",
    "The feature with the **highest IG** is the one that splits the dataset best as it creates the purest groups.\n",
    "In our case, `Outlook` usually wins, which matches the examples from the lecture."
   ]
  },
  {
   "cell_type": "code",
   "execution_count": 7,
   "id": "61ff9a47-bd49-4f70-b712-3fd049676407",
   "metadata": {},
   "outputs": [
    {
     "name": "stdout",
     "output_type": "stream",
     "text": [
      "Outlook: 0.247\n",
      "Temperature: 0.029\n",
      "Humidity: 0.152\n",
      "Wind: 0.048\n"
     ]
    }
   ],
   "source": [
    "for col in df.columns[:-1]:\n",
    "    ig = information_gain(df[col], df['PlayTennis'])\n",
    "    print(f\"{col}: {ig:.3f}\")"
   ]
  },
  {
   "cell_type": "markdown",
   "id": "9fc6faea-48cd-44a7-8879-1b7424f31df3",
   "metadata": {},
   "source": [
    "### Step 5: Visualising the Information Gain\n",
    "\n",
    "This bar chart makes it easy to see which features contribute the most.  \n",
    "In this dataset, **Outlook** gives the highest Information Gain — meaning the tree will split on it first."
   ]
  },
  {
   "cell_type": "code",
   "execution_count": 8,
   "id": "86d9f884-b20a-4139-b0cd-50ebdbae30be",
   "metadata": {},
   "outputs": [
    {
     "data": {
      "image/png": "[encoded data removed]",
      "text/plain": [
       "<Figure size 640x480 with 1 Axes>"
      ]
     },
     "metadata": {},
     "output_type": "display_data"
    }
   ],
   "source": [
    "import matplotlib.pyplot as plt\n",
    "\n",
    "features = df.columns[:-1]\n",
    "gains = [information_gain(df[col], df['PlayTennis']) for col in features]\n",
    "\n",
    "plt.bar(features, gains, color='teal')\n",
    "plt.title('Information Gain per Feature')\n",
    "plt.ylabel('Information Gain')\n",
    "plt.show()"
   ]
  },
  {
   "cell_type": "markdown",
   "id": "ba7f9437-4f0e-4991-b58d-bca9c2e5519c",
   "metadata": {},
   "source": [
    "- Entropy is like \"how uncertain am I right now?\"  \n",
    "- Information Gain is \"how much uncertainty did this question remove?\"  \n",
    "- The tree chooses the question (feature) that removes the most uncertainty first.  \n",
    "\n",
    "That’s how a decision tree *learns* by picking the most informative questions, step by step."
   ]
  }
 ],
 "metadata": {
  "kernelspec": {
   "display_name": "Python 3 (ipykernel)",
   "language": "python",
   "name": "python3"
  },
  "language_info": {
   "codemirror_mode": {
    "name": "ipython",
    "version": 3
   },
   "file_extension": ".py",
   "mimetype": "text/x-python",
   "name": "python",
   "nbconvert_exporter": "python",
   "pygments_lexer": "ipython3",
   "version": "3.13.5"
  }
 },
 "nbformat": 4,
 "nbformat_minor": 5
}
